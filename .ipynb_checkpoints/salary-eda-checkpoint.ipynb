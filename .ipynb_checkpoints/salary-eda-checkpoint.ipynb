{
 "cells": [
  {
   "cell_type": "code",
   "execution_count": 13,
   "id": "d36444e3",
   "metadata": {},
   "outputs": [],
   "source": [
    "%config InlineBackend.figure_format = 'retina'\n",
    "%matplotlib inline"
   ]
  },
  {
   "cell_type": "code",
   "execution_count": 14,
   "id": "9704e689",
   "metadata": {},
   "outputs": [],
   "source": [
    "import numpy as np\n",
    "import pandas as pd\n",
    "import matplotlib.pyplot as plt\n",
    "from matplotlib import style\n",
    "import ipywidgets as widgets\n",
    "import seaborn as sns\n",
    "from sklearn.linear_model import LinearRegression\n",
    "from sklearn.ensemble import RandomForestRegressor\n",
    "from sklearn.model_selection import train_test_split\n",
    "from sklearn.metrics import mean_squared_error, r2_score, mean_absolute_error\n",
    "from sklearn.preprocessing import PolynomialFeatures"
   ]
  },
  {
   "cell_type": "markdown",
   "id": "c2ed34da",
   "metadata": {},
   "source": [
    "### Load Data"
   ]
  },
  {
   "cell_type": "code",
   "execution_count": 15,
   "id": "e7e5880a",
   "metadata": {},
   "outputs": [
    {
     "data": {
      "text/html": [
       "<div>\n",
       "<style scoped>\n",
       "    .dataframe tbody tr th:only-of-type {\n",
       "        vertical-align: middle;\n",
       "    }\n",
       "\n",
       "    .dataframe tbody tr th {\n",
       "        vertical-align: top;\n",
       "    }\n",
       "\n",
       "    .dataframe thead th {\n",
       "        text-align: right;\n",
       "    }\n",
       "</style>\n",
       "<table border=\"1\" class=\"dataframe\">\n",
       "  <thead>\n",
       "    <tr style=\"text-align: right;\">\n",
       "      <th></th>\n",
       "      <th>Gender</th>\n",
       "      <th>Education Level</th>\n",
       "      <th>Job Title</th>\n",
       "      <th>Years of Experience</th>\n",
       "      <th>Salary</th>\n",
       "    </tr>\n",
       "    <tr>\n",
       "      <th>Age</th>\n",
       "      <th></th>\n",
       "      <th></th>\n",
       "      <th></th>\n",
       "      <th></th>\n",
       "      <th></th>\n",
       "    </tr>\n",
       "  </thead>\n",
       "  <tbody>\n",
       "    <tr>\n",
       "      <th>32.0</th>\n",
       "      <td>Male</td>\n",
       "      <td>Bachelor's</td>\n",
       "      <td>Software Engineer</td>\n",
       "      <td>5.0</td>\n",
       "      <td>90000.0</td>\n",
       "    </tr>\n",
       "    <tr>\n",
       "      <th>28.0</th>\n",
       "      <td>Female</td>\n",
       "      <td>Master's</td>\n",
       "      <td>Data Analyst</td>\n",
       "      <td>3.0</td>\n",
       "      <td>65000.0</td>\n",
       "    </tr>\n",
       "    <tr>\n",
       "      <th>45.0</th>\n",
       "      <td>Male</td>\n",
       "      <td>PhD</td>\n",
       "      <td>Senior Manager</td>\n",
       "      <td>15.0</td>\n",
       "      <td>150000.0</td>\n",
       "    </tr>\n",
       "    <tr>\n",
       "      <th>36.0</th>\n",
       "      <td>Female</td>\n",
       "      <td>Bachelor's</td>\n",
       "      <td>Sales Associate</td>\n",
       "      <td>7.0</td>\n",
       "      <td>60000.0</td>\n",
       "    </tr>\n",
       "    <tr>\n",
       "      <th>52.0</th>\n",
       "      <td>Male</td>\n",
       "      <td>Master's</td>\n",
       "      <td>Director</td>\n",
       "      <td>20.0</td>\n",
       "      <td>200000.0</td>\n",
       "    </tr>\n",
       "    <tr>\n",
       "      <th>...</th>\n",
       "      <td>...</td>\n",
       "      <td>...</td>\n",
       "      <td>...</td>\n",
       "      <td>...</td>\n",
       "      <td>...</td>\n",
       "    </tr>\n",
       "    <tr>\n",
       "      <th>49.0</th>\n",
       "      <td>Female</td>\n",
       "      <td>PhD</td>\n",
       "      <td>Director of Marketing</td>\n",
       "      <td>20.0</td>\n",
       "      <td>200000.0</td>\n",
       "    </tr>\n",
       "    <tr>\n",
       "      <th>32.0</th>\n",
       "      <td>Male</td>\n",
       "      <td>High School</td>\n",
       "      <td>Sales Associate</td>\n",
       "      <td>3.0</td>\n",
       "      <td>50000.0</td>\n",
       "    </tr>\n",
       "    <tr>\n",
       "      <th>30.0</th>\n",
       "      <td>Female</td>\n",
       "      <td>Bachelor's Degree</td>\n",
       "      <td>Financial Manager</td>\n",
       "      <td>4.0</td>\n",
       "      <td>55000.0</td>\n",
       "    </tr>\n",
       "    <tr>\n",
       "      <th>46.0</th>\n",
       "      <td>Male</td>\n",
       "      <td>Master's Degree</td>\n",
       "      <td>Marketing Manager</td>\n",
       "      <td>14.0</td>\n",
       "      <td>140000.0</td>\n",
       "    </tr>\n",
       "    <tr>\n",
       "      <th>26.0</th>\n",
       "      <td>Female</td>\n",
       "      <td>High School</td>\n",
       "      <td>Sales Executive</td>\n",
       "      <td>1.0</td>\n",
       "      <td>35000.0</td>\n",
       "    </tr>\n",
       "  </tbody>\n",
       "</table>\n",
       "<p>6704 rows × 5 columns</p>\n",
       "</div>"
      ],
      "text/plain": [
       "      Gender    Education Level              Job Title  Years of Experience  \\\n",
       "Age                                                                           \n",
       "32.0    Male         Bachelor's      Software Engineer                  5.0   \n",
       "28.0  Female           Master's           Data Analyst                  3.0   \n",
       "45.0    Male                PhD         Senior Manager                 15.0   \n",
       "36.0  Female         Bachelor's        Sales Associate                  7.0   \n",
       "52.0    Male           Master's               Director                 20.0   \n",
       "...      ...                ...                    ...                  ...   \n",
       "49.0  Female                PhD  Director of Marketing                 20.0   \n",
       "32.0    Male        High School        Sales Associate                  3.0   \n",
       "30.0  Female  Bachelor's Degree      Financial Manager                  4.0   \n",
       "46.0    Male    Master's Degree      Marketing Manager                 14.0   \n",
       "26.0  Female        High School        Sales Executive                  1.0   \n",
       "\n",
       "        Salary  \n",
       "Age             \n",
       "32.0   90000.0  \n",
       "28.0   65000.0  \n",
       "45.0  150000.0  \n",
       "36.0   60000.0  \n",
       "52.0  200000.0  \n",
       "...        ...  \n",
       "49.0  200000.0  \n",
       "32.0   50000.0  \n",
       "30.0   55000.0  \n",
       "46.0  140000.0  \n",
       "26.0   35000.0  \n",
       "\n",
       "[6704 rows x 5 columns]"
      ]
     },
     "metadata": {},
     "output_type": "display_data"
    }
   ],
   "source": [
    "# Load the data\n",
    "url = 'https://raw.githubusercontent.com/sohusain/salary-prediction/main/Salary_Data.csv'\n",
    "df = pd.read_csv(url,index_col=0)\n",
    "display(df)"
   ]
  },
  {
   "cell_type": "markdown",
   "id": "6e17c9e9",
   "metadata": {},
   "source": [
    "### Clean Data"
   ]
  },
  {
   "cell_type": "code",
   "execution_count": 16,
   "id": "96d86f22",
   "metadata": {},
   "outputs": [
    {
     "data": {
      "text/html": [
       "<div>\n",
       "<style scoped>\n",
       "    .dataframe tbody tr th:only-of-type {\n",
       "        vertical-align: middle;\n",
       "    }\n",
       "\n",
       "    .dataframe tbody tr th {\n",
       "        vertical-align: top;\n",
       "    }\n",
       "\n",
       "    .dataframe thead th {\n",
       "        text-align: right;\n",
       "    }\n",
       "</style>\n",
       "<table border=\"1\" class=\"dataframe\">\n",
       "  <thead>\n",
       "    <tr style=\"text-align: right;\">\n",
       "      <th></th>\n",
       "      <th>Gender</th>\n",
       "      <th>Education Level</th>\n",
       "      <th>Job Title</th>\n",
       "      <th>Years of Experience</th>\n",
       "      <th>Salary</th>\n",
       "    </tr>\n",
       "    <tr>\n",
       "      <th>Age</th>\n",
       "      <th></th>\n",
       "      <th></th>\n",
       "      <th></th>\n",
       "      <th></th>\n",
       "      <th></th>\n",
       "    </tr>\n",
       "  </thead>\n",
       "  <tbody>\n",
       "    <tr>\n",
       "      <th>NaN</th>\n",
       "      <td>NaN</td>\n",
       "      <td>NaN</td>\n",
       "      <td>NaN</td>\n",
       "      <td>NaN</td>\n",
       "      <td>NaN</td>\n",
       "    </tr>\n",
       "    <tr>\n",
       "      <th>NaN</th>\n",
       "      <td>NaN</td>\n",
       "      <td>NaN</td>\n",
       "      <td>NaN</td>\n",
       "      <td>NaN</td>\n",
       "      <td>NaN</td>\n",
       "    </tr>\n",
       "    <tr>\n",
       "      <th>27.0</th>\n",
       "      <td>Male</td>\n",
       "      <td>NaN</td>\n",
       "      <td>Developer</td>\n",
       "      <td>7.0</td>\n",
       "      <td>100000.0</td>\n",
       "    </tr>\n",
       "    <tr>\n",
       "      <th>31.0</th>\n",
       "      <td>Male</td>\n",
       "      <td>Master's Degree</td>\n",
       "      <td>Full Stack Engineer</td>\n",
       "      <td>8.0</td>\n",
       "      <td>NaN</td>\n",
       "    </tr>\n",
       "    <tr>\n",
       "      <th>26.0</th>\n",
       "      <td>Female</td>\n",
       "      <td>Bachelor's Degree</td>\n",
       "      <td>Social M</td>\n",
       "      <td>NaN</td>\n",
       "      <td>NaN</td>\n",
       "    </tr>\n",
       "    <tr>\n",
       "      <th>36.0</th>\n",
       "      <td>Male</td>\n",
       "      <td>Bachelor's Degree</td>\n",
       "      <td>Sales Director</td>\n",
       "      <td>6.0</td>\n",
       "      <td>NaN</td>\n",
       "    </tr>\n",
       "  </tbody>\n",
       "</table>\n",
       "</div>"
      ],
      "text/plain": [
       "      Gender    Education Level            Job Title  Years of Experience  \\\n",
       "Age                                                                         \n",
       "NaN      NaN                NaN                  NaN                  NaN   \n",
       "NaN      NaN                NaN                  NaN                  NaN   \n",
       "27.0    Male                NaN            Developer                  7.0   \n",
       "31.0    Male    Master's Degree  Full Stack Engineer                  8.0   \n",
       "26.0  Female  Bachelor's Degree             Social M                  NaN   \n",
       "36.0    Male  Bachelor's Degree       Sales Director                  6.0   \n",
       "\n",
       "        Salary  \n",
       "Age             \n",
       "NaN        NaN  \n",
       "NaN        NaN  \n",
       "27.0  100000.0  \n",
       "31.0       NaN  \n",
       "26.0       NaN  \n",
       "36.0       NaN  "
      ]
     },
     "metadata": {},
     "output_type": "display_data"
    },
    {
     "data": {
      "text/plain": [
       "Gender                 2\n",
       "Education Level        3\n",
       "Job Title              2\n",
       "Years of Experience    3\n",
       "Salary                 5\n",
       "dtype: int64"
      ]
     },
     "metadata": {},
     "output_type": "display_data"
    }
   ],
   "source": [
    "# check for nulls\n",
    "display(df[df.isna().any(axis=1)])\n",
    "display(df.isnull().sum())"
   ]
  },
  {
   "cell_type": "code",
   "execution_count": 17,
   "id": "9b954faf",
   "metadata": {},
   "outputs": [
    {
     "data": {
      "text/html": [
       "<div>\n",
       "<style scoped>\n",
       "    .dataframe tbody tr th:only-of-type {\n",
       "        vertical-align: middle;\n",
       "    }\n",
       "\n",
       "    .dataframe tbody tr th {\n",
       "        vertical-align: top;\n",
       "    }\n",
       "\n",
       "    .dataframe thead th {\n",
       "        text-align: right;\n",
       "    }\n",
       "</style>\n",
       "<table border=\"1\" class=\"dataframe\">\n",
       "  <thead>\n",
       "    <tr style=\"text-align: right;\">\n",
       "      <th></th>\n",
       "      <th>Gender</th>\n",
       "      <th>Education Level</th>\n",
       "      <th>Job Title</th>\n",
       "      <th>Years of Experience</th>\n",
       "      <th>Salary</th>\n",
       "    </tr>\n",
       "    <tr>\n",
       "      <th>Age</th>\n",
       "      <th></th>\n",
       "      <th></th>\n",
       "      <th></th>\n",
       "      <th></th>\n",
       "      <th></th>\n",
       "    </tr>\n",
       "  </thead>\n",
       "  <tbody>\n",
       "    <tr>\n",
       "      <th>32.0</th>\n",
       "      <td>Male</td>\n",
       "      <td>Bachelor's</td>\n",
       "      <td>Software Engineer</td>\n",
       "      <td>5.0</td>\n",
       "      <td>90000.0</td>\n",
       "    </tr>\n",
       "    <tr>\n",
       "      <th>28.0</th>\n",
       "      <td>Female</td>\n",
       "      <td>Master's</td>\n",
       "      <td>Data Analyst</td>\n",
       "      <td>3.0</td>\n",
       "      <td>65000.0</td>\n",
       "    </tr>\n",
       "    <tr>\n",
       "      <th>45.0</th>\n",
       "      <td>Male</td>\n",
       "      <td>PhD</td>\n",
       "      <td>Senior Manager</td>\n",
       "      <td>15.0</td>\n",
       "      <td>150000.0</td>\n",
       "    </tr>\n",
       "    <tr>\n",
       "      <th>36.0</th>\n",
       "      <td>Female</td>\n",
       "      <td>Bachelor's</td>\n",
       "      <td>Sales Associate</td>\n",
       "      <td>7.0</td>\n",
       "      <td>60000.0</td>\n",
       "    </tr>\n",
       "    <tr>\n",
       "      <th>52.0</th>\n",
       "      <td>Male</td>\n",
       "      <td>Master's</td>\n",
       "      <td>Director</td>\n",
       "      <td>20.0</td>\n",
       "      <td>200000.0</td>\n",
       "    </tr>\n",
       "    <tr>\n",
       "      <th>...</th>\n",
       "      <td>...</td>\n",
       "      <td>...</td>\n",
       "      <td>...</td>\n",
       "      <td>...</td>\n",
       "      <td>...</td>\n",
       "    </tr>\n",
       "    <tr>\n",
       "      <th>49.0</th>\n",
       "      <td>Female</td>\n",
       "      <td>PhD</td>\n",
       "      <td>Director of Marketing</td>\n",
       "      <td>20.0</td>\n",
       "      <td>200000.0</td>\n",
       "    </tr>\n",
       "    <tr>\n",
       "      <th>32.0</th>\n",
       "      <td>Male</td>\n",
       "      <td>High School</td>\n",
       "      <td>Sales Associate</td>\n",
       "      <td>3.0</td>\n",
       "      <td>50000.0</td>\n",
       "    </tr>\n",
       "    <tr>\n",
       "      <th>30.0</th>\n",
       "      <td>Female</td>\n",
       "      <td>Bachelor's Degree</td>\n",
       "      <td>Financial Manager</td>\n",
       "      <td>4.0</td>\n",
       "      <td>55000.0</td>\n",
       "    </tr>\n",
       "    <tr>\n",
       "      <th>46.0</th>\n",
       "      <td>Male</td>\n",
       "      <td>Master's Degree</td>\n",
       "      <td>Marketing Manager</td>\n",
       "      <td>14.0</td>\n",
       "      <td>140000.0</td>\n",
       "    </tr>\n",
       "    <tr>\n",
       "      <th>26.0</th>\n",
       "      <td>Female</td>\n",
       "      <td>High School</td>\n",
       "      <td>Sales Executive</td>\n",
       "      <td>1.0</td>\n",
       "      <td>35000.0</td>\n",
       "    </tr>\n",
       "  </tbody>\n",
       "</table>\n",
       "<p>6698 rows × 5 columns</p>\n",
       "</div>"
      ],
      "text/plain": [
       "      Gender    Education Level              Job Title  Years of Experience  \\\n",
       "Age                                                                           \n",
       "32.0    Male         Bachelor's      Software Engineer                  5.0   \n",
       "28.0  Female           Master's           Data Analyst                  3.0   \n",
       "45.0    Male                PhD         Senior Manager                 15.0   \n",
       "36.0  Female         Bachelor's        Sales Associate                  7.0   \n",
       "52.0    Male           Master's               Director                 20.0   \n",
       "...      ...                ...                    ...                  ...   \n",
       "49.0  Female                PhD  Director of Marketing                 20.0   \n",
       "32.0    Male        High School        Sales Associate                  3.0   \n",
       "30.0  Female  Bachelor's Degree      Financial Manager                  4.0   \n",
       "46.0    Male    Master's Degree      Marketing Manager                 14.0   \n",
       "26.0  Female        High School        Sales Executive                  1.0   \n",
       "\n",
       "        Salary  \n",
       "Age             \n",
       "32.0   90000.0  \n",
       "28.0   65000.0  \n",
       "45.0  150000.0  \n",
       "36.0   60000.0  \n",
       "52.0  200000.0  \n",
       "...        ...  \n",
       "49.0  200000.0  \n",
       "32.0   50000.0  \n",
       "30.0   55000.0  \n",
       "46.0  140000.0  \n",
       "26.0   35000.0  \n",
       "\n",
       "[6698 rows x 5 columns]"
      ]
     },
     "metadata": {},
     "output_type": "display_data"
    },
    {
     "name": "stdout",
     "output_type": "stream",
     "text": [
      "Gender                 0\n",
      "Education Level        0\n",
      "Job Title              0\n",
      "Years of Experience    0\n",
      "Salary                 0\n",
      "dtype: int64\n"
     ]
    }
   ],
   "source": [
    "# drop nulls\n",
    "df = df.dropna()\n",
    "\n",
    "display(df)\n",
    "print(df.isnull().sum())"
   ]
  },
  {
   "cell_type": "code",
   "execution_count": 18,
   "id": "81479761",
   "metadata": {},
   "outputs": [
    {
     "name": "stdout",
     "output_type": "stream",
     "text": [
      "['Male' 'Female' 'Other']\n",
      "[\"Bachelor's\" \"Master's\" 'PhD' \"Bachelor's Degree\" \"Master's Degree\"\n",
      " 'High School' 'phD']\n"
     ]
    }
   ],
   "source": [
    "#check for uniques\n",
    "print(df['Gender'].unique())\n",
    "print(df['Education Level'].unique())"
   ]
  },
  {
   "cell_type": "code",
   "execution_count": 19,
   "id": "e4ca11f2",
   "metadata": {},
   "outputs": [],
   "source": [
    "df['Education Level'] = df['Education Level'].replace([\"Bachelor's\", \"Bachelor's Degree\"], \"Bachelor\")\n",
    "df['Education Level'] = df['Education Level'].replace([\"Master's\", \"Master's Degree\"], \"Master\")\n",
    "df['Education Level'] = df['Education Level'].replace(\"phD\",\"PhD\")"
   ]
  },
  {
   "cell_type": "code",
   "execution_count": 20,
   "id": "177a2006",
   "metadata": {},
   "outputs": [
    {
     "name": "stdout",
     "output_type": "stream",
     "text": [
      "['Male' 'Female' 'Other']\n",
      "['Bachelor' 'Master' 'PhD' 'High School']\n"
     ]
    }
   ],
   "source": [
    "# check for uniques\n",
    "print(df['Gender'].unique())\n",
    "print(df['Education Level'].unique())"
   ]
  },
  {
   "cell_type": "code",
   "execution_count": 21,
   "id": "18bc3cab",
   "metadata": {},
   "outputs": [
    {
     "name": "stdout",
     "output_type": "stream",
     "text": [
      "Male      3671\n",
      "Female    3013\n",
      "Other       14\n",
      "Name: Gender, dtype: int64\n",
      "Bachelor       3021\n",
      "Master         1860\n",
      "PhD            1369\n",
      "High School     448\n",
      "Name: Education Level, dtype: int64\n",
      "Software Engineer             518\n",
      "Data Scientist                453\n",
      "Software Engineer Manager     376\n",
      "Data Analyst                  363\n",
      "Senior Project Engineer       318\n",
      "                             ... \n",
      "Account Manager                 1\n",
      "Help Desk Analyst               1\n",
      "Senior Training Specialist      1\n",
      "Junior Web Designer             1\n",
      "Software Project Manager        1\n",
      "Name: Job Title, Length: 191, dtype: int64\n"
     ]
    }
   ],
   "source": [
    "# distribution per columns\n",
    "print(df['Gender'].value_counts())\n",
    "print(df['Education Level'].value_counts())\n",
    "print(df['Job Title'].value_counts())"
   ]
  },
  {
   "cell_type": "markdown",
   "id": "b93ac75b",
   "metadata": {},
   "source": [
    "## Questions\n",
    "#### Distribution:\n",
    "- look at distribution of age, education level, and job title. along with avg salary\n",
    "\n",
    "#### Relationship:\n",
    "- Find a correlation and maybe build a predictive model out of that?"
   ]
  },
  {
   "cell_type": "markdown",
   "id": "f45ecbca",
   "metadata": {},
   "source": [
    "### Distribution: Age\n"
   ]
  },
  {
   "cell_type": "code",
   "execution_count": null,
   "id": "cda961bc",
   "metadata": {},
   "outputs": [],
   "source": [
    "sns.displot(x = 'Age', data = df, kde = True)\n",
    "plt.show()\n",
    "\n",
    "# sns.boxplot(x=df[\"Age\"])\n",
    "# plt.show()"
   ]
  },
  {
   "cell_type": "code",
   "execution_count": null,
   "id": "50dc4026",
   "metadata": {},
   "outputs": [],
   "source": [
    "# Data\n",
    "avg_salary_by_age = df.groupby('Age')['Salary'].mean()\n",
    "\n",
    "# Create a line plot\n",
    "plt.plot(avg_salary_by_age.index, avg_salary_by_age.values, marker='o')\n",
    "\n",
    "# avg_salary_by_education.sort_values(ascending = False).plot(kind = 'bar')\n",
    "\n",
    "# Cosmetics\n",
    "plt.xlabel('Age')\n",
    "plt.ylabel('Average Salary')\n",
    "plt.title('Average Salary by Age')\n",
    "plt.xticks(np.arange(min(avg_salary_by_age.index)-1, max(avg_salary_by_age.index)+1, 5))\n",
    "ax = plt.gca()\n",
    "ax.spines['top'].set_visible(False)\n",
    "ax.spines['right'].set_visible(False)\n",
    "\n",
    "# Display the plot\n",
    "plt.tight_layout()\n",
    "plt.show()\n",
    "\n",
    "# min and max\n",
    "min_row = avg_salary_by_age.idxmin()\n",
    "max_row = avg_salary_by_age.idxmax()\n",
    "\n",
    "min_age, min_avg_salary = min_row, avg_salary_by_age[min_row]\n",
    "max_age, max_avg_salary = max_row, avg_salary_by_age[max_row]\n",
    "\n",
    "print(\"Minimum Average Salary:\")\n",
    "print(\"Age:\", min_age)\n",
    "print(\"Average Salary:\", min_avg_salary)\n",
    "\n",
    "print(\"\\nMaximum Average Salary:\")\n",
    "print(\"Age:\", max_age)\n",
    "print(\"Average Salary:\", max_avg_salary)"
   ]
  },
  {
   "cell_type": "markdown",
   "id": "d8f48408",
   "metadata": {},
   "source": [
    "### Distribution: Job Title"
   ]
  },
  {
   "cell_type": "code",
   "execution_count": null,
   "id": "6f5c9374",
   "metadata": {},
   "outputs": [],
   "source": [
    "# Data\n",
    "avg_salary_by_job = df.groupby('Job Title')['Salary'].mean()\n",
    "top_10_job_titles = avg_salary_by_job.head(10)\n",
    "\n",
    "# Create a line plot\n",
    "top_10_job_titles.sort_values(ascending = False).plot(kind = 'bar')\n",
    "\n",
    "# Cosmetics\n",
    "plt.ylabel('Average Salary')\n",
    "plt.title('Average Salary by Job')\n",
    "ax = plt.gca()\n",
    "ax.spines['top'].set_visible(False)\n",
    "ax.spines['right'].set_visible(False)\n",
    "\n",
    "# Display the plot\n",
    "plt.legend()\n",
    "plt.show()\n",
    "\n",
    "\n",
    "min_row = avg_salary_by_job.idxmin()\n",
    "max_row = avg_salary_by_job.idxmax()\n",
    "\n",
    "min_job, min_avg_salary = min_row, avg_salary_by_job[min_row]\n",
    "max_job, max_avg_salary = max_row, avg_salary_by_job[max_row]\n",
    "\n",
    "print(\"Minimum Average Salary:\")\n",
    "print(\"Job:\", min_job)\n",
    "print(\"Average Salary:\", min_avg_salary)\n",
    "\n",
    "print(\"\\nMaximum Average Salary:\")\n",
    "print(\"Job:\", max_job)\n",
    "print(\"Average Salary:\", max_avg_salary)"
   ]
  },
  {
   "cell_type": "markdown",
   "id": "560cb1d1",
   "metadata": {},
   "source": [
    "### Distribution: Education Level\n"
   ]
  },
  {
   "cell_type": "code",
   "execution_count": null,
   "id": "faefd30c",
   "metadata": {},
   "outputs": [],
   "source": [
    "sns.displot(x = 'Education Level', data = df)\n",
    "plt.show()"
   ]
  },
  {
   "cell_type": "code",
   "execution_count": null,
   "id": "8f03c26d",
   "metadata": {},
   "outputs": [],
   "source": [
    "sns.countplot(x = 'Education Level', data = df, hue = 'Gender')\n",
    "plt.show()"
   ]
  },
  {
   "cell_type": "code",
   "execution_count": null,
   "id": "ec5f1d95",
   "metadata": {},
   "outputs": [],
   "source": [
    "# Data\n",
    "avg_salary_by_education = df.groupby('Education Level')['Salary'].mean()\n",
    "\n",
    "# Create a line plot\n",
    "avg_salary_by_education.sort_values(ascending = False).plot(kind = 'bar')\n",
    "\n",
    "# Cosmetics\n",
    "plt.ylabel('Average Salary')\n",
    "plt.title('Average Salary by Education')\n",
    "ax = plt.gca()\n",
    "ax.spines['top'].set_visible(False)\n",
    "ax.spines['right'].set_visible(False)\n",
    "\n",
    "# Display the plot\n",
    "plt.legend()\n",
    "plt.tight_layout()\n",
    "plt.show()\n",
    "\n",
    "\n",
    "min_row = avg_salary_by_education.idxmin()\n",
    "max_row = avg_salary_by_education.idxmax()\n",
    "\n",
    "min_education, min_avg_salary = min_row, avg_salary_by_education[min_row]\n",
    "max_education, max_avg_salary = max_row, avg_salary_by_education[max_row]\n",
    "\n",
    "print(\"Minimum Average Salary:\")\n",
    "print(\"Education:\", min_education)\n",
    "print(\"Average Salary:\", min_avg_salary)\n",
    "\n",
    "print(\"\\nMaximum Average Salary:\")\n",
    "print(\"Education:\", max_education)\n",
    "print(\"Average Salary:\", max_avg_salary)"
   ]
  },
  {
   "cell_type": "markdown",
   "id": "3a04c7f6",
   "metadata": {},
   "source": [
    "### Distribution: Years of Experience"
   ]
  },
  {
   "cell_type": "code",
   "execution_count": null,
   "id": "82517434",
   "metadata": {},
   "outputs": [],
   "source": [
    "sns.displot(x = 'Years of Experience', data = df, kde = True)\n",
    "plt.show()\n",
    "\n",
    "# sns.boxplot(x=df[\"Years of Experience\"])\n",
    "# plt.show()"
   ]
  },
  {
   "cell_type": "code",
   "execution_count": null,
   "id": "95173fc6",
   "metadata": {},
   "outputs": [],
   "source": [
    "# Data\n",
    "avg_salary_by_yoe = df.groupby('Years of Experience')['Salary'].mean()\n",
    "\n",
    "# Create a line plot\n",
    "plt.plot(avg_salary_by_yoe.index, avg_salary_by_yoe.values, marker='o')\n",
    "\n",
    "# Cosmetics\n",
    "plt.ylabel('Average Salary')\n",
    "plt.title('Average Salary by YOE')\n",
    "ax = plt.gca()\n",
    "ax.spines['top'].set_visible(False)\n",
    "ax.spines['right'].set_visible(False)\n",
    "\n",
    "# show plot\n",
    "plt.show()\n",
    "\n",
    "\n",
    "min_row = avg_salary_by_yoe.idxmin()\n",
    "max_row = avg_salary_by_yoe.idxmax()\n",
    "\n",
    "min_yoe, min_avg_salary = min_row, avg_salary_by_yoe[min_row]\n",
    "max_yoe, max_avg_salary = max_row, avg_salary_by_yoe[max_row]\n",
    "\n",
    "print(\"Minimum Average Salary:\")\n",
    "print(\"YOE:\", min_yoe)\n",
    "print(\"Average Salary:\", min_avg_salary)\n",
    "\n",
    "print(\"\\nMaximum Average Salary:\")\n",
    "print(\"YOE:\", max_yoe)\n",
    "print(\"Average Salary:\", max_avg_salary)"
   ]
  },
  {
   "cell_type": "markdown",
   "id": "19b7f3d7",
   "metadata": {},
   "source": [
    "## Relationships\n",
    "find a correlation and build some sort of regression model"
   ]
  },
  {
   "cell_type": "code",
   "execution_count": null,
   "id": "bea9fc3d",
   "metadata": {},
   "outputs": [],
   "source": [
    "df.describe().T"
   ]
  },
  {
   "cell_type": "code",
   "execution_count": null,
   "id": "9b80642b",
   "metadata": {},
   "outputs": [],
   "source": [
    "sns.heatmap(df.corr());"
   ]
  },
  {
   "cell_type": "markdown",
   "id": "410c1dd5",
   "metadata": {},
   "source": [
    "want to include education level and gender"
   ]
  },
  {
   "cell_type": "code",
   "execution_count": null,
   "id": "0455c6af",
   "metadata": {},
   "outputs": [],
   "source": [
    "# Create mappings for education level and gender\n",
    "education_mapping = {'High School': 0, 'Bachelor': 1, 'Master': 2, 'PhD': 3}\n",
    "gender_mapping = {'Male': 0, 'Female': 1}\n",
    "\n",
    "# Apply mappings to the DataFrame\n",
    "df['Education Level Int'] = df['Education Level'].map(education_mapping)\n",
    "df['Gender Int'] = df['Gender'].map(gender_mapping)"
   ]
  },
  {
   "cell_type": "code",
   "execution_count": null,
   "id": "74b2b8f3",
   "metadata": {},
   "outputs": [],
   "source": [
    "sns.heatmap(df.corr().round(2), annot=True);"
   ]
  },
  {
   "cell_type": "markdown",
   "id": "650928db",
   "metadata": {},
   "source": [
    "A correlation matrix is a common tool used to compare the coefficients of correlation between different features (or attributes) in a dataset. It allows us to visualize how much (or how little) correlation exists between different variables.\n",
    "\n",
    "The values in our matrix are the correlation coefficients between the pairs of features. but what even is a Correlation Coefficient? A coefficient of correlation is a value between -1 and +1 that denotes both the strength and directionality of a relationship between two variables.\n",
    "- The closer the value is to 1 (or -1), the stronger a relationship\n",
    "    - A negative coefficient will tell us that the relationship is negative, meaning that as one value increases, the other decreases. Similarly, a positive coefficient indicates that as one value increases, so does the other\n",
    "- The closer a number is to 0, the weaker the relationship"
   ]
  },
  {
   "cell_type": "code",
   "execution_count": null,
   "id": "ae2a9cbc",
   "metadata": {},
   "outputs": [],
   "source": [
    "model = LinearRegression()\n",
    "\n",
    "x = df[['Years of Experience']]\n",
    "y = df[['Salary']]\n",
    "\n",
    "model.fit(x,y)\n",
    "r_sq = model.score(x, y)\n",
    "\n",
    "print(f\"coefficient of determination: {r_sq}\")"
   ]
  },
  {
   "cell_type": "markdown",
   "id": "f331ffa0",
   "metadata": {},
   "source": [
    "From the above R square we can find that the independent variable (YOE) explains 65% of dependent variable (salary). Thats p good but what if we add in another variable so that we can increase our r squared value"
   ]
  },
  {
   "cell_type": "code",
   "execution_count": null,
   "id": "03e4eacf",
   "metadata": {},
   "outputs": [],
   "source": [
    "x = df[['Years of Experience', 'Age']]\n",
    "y = df[['Salary']]\n",
    "\n",
    "model.fit(x,y)\n",
    "r_sq = model.score(x, y)\n",
    "\n",
    "print(f\"coefficient of determination: {r_sq}\")"
   ]
  },
  {
   "cell_type": "markdown",
   "id": "b9b3f325",
   "metadata": {},
   "source": [
    "didn't really increase out r squared by that much. so for simplicity lets just use years of experience and see if other regression models give us a higher r squared value"
   ]
  },
  {
   "cell_type": "code",
   "execution_count": null,
   "id": "4db6921c",
   "metadata": {},
   "outputs": [],
   "source": [
    "x = df[['Years of Experience', 'Age', 'Education Level Int']]\n",
    "y = df[['Salary']]\n",
    "\n",
    "model.fit(x,y)\n",
    "r_sq = model.score(x, y)\n",
    "\n",
    "print(f\"coefficient of determination: {r_sq}\")"
   ]
  },
  {
   "cell_type": "markdown",
   "id": "03b37128",
   "metadata": {},
   "source": [
    "## Find best fit model\n",
    "along with with r squared value, we can measure MSE. MSE stands for Mean Squared Error, and it is a metric used to measure the average squared difference between the predicted and actual values in a regression problem. By squaring the differences between the predicted and actual values, the metric penalizes larger errors more heavily, giving a higher weight to outliers. A lower MSE indicates that the model has smaller prediction errors and better fits the data. "
   ]
  },
  {
   "cell_type": "code",
   "execution_count": null,
   "id": "bd457c43",
   "metadata": {},
   "outputs": [],
   "source": [
    "# creating train and test sets\n",
    "# x = df[['Years of Experience', 'Age', 'Education Level Int']]\n",
    "x = df[['Years of Experience']]\n",
    "y = df[['Salary']]\n",
    "\n",
    "x_train, x_test, y_train, y_test = train_test_split(x, y, test_size=0.3, random_state=101)\n",
    "\n",
    "# Model 1: linear regression \n",
    "linear_reg = LinearRegression()\n",
    "linear_reg.fit(x_train, y_train) #fit model\n",
    "y_pred_linear = linear_reg.predict(x_test)\n",
    "mse_linear = mean_squared_error(y_test, y_pred_linear)\n",
    "r2_linear = r2_score(y_test, y_pred_linear)\n",
    "\n",
    "# Model 2: Polynomial Regression\n",
    "poly_features = PolynomialFeatures(degree=4)\n",
    "x_poly = poly_features.fit_transform(x_train)\n",
    "poly_reg = LinearRegression()\n",
    "poly_reg.fit(x_poly, y_train) #fit model\n",
    "x_test_poly = poly_features.transform(x_test)\n",
    "y_pred_poly = poly_reg.predict(x_test_poly)\n",
    "mse_poly = mean_squared_error(y_test, y_pred_poly)\n",
    "r2_poly = r2_score(y_test, y_pred_poly)\n",
    "\n",
    "# Model 3: Logarithmic Regression\n",
    "log_reg = LinearRegression()\n",
    "epsilon = 1e-8  # Small constant because x was 0 in some cases\n",
    "log_x_train = np.log(x_train + epsilon)\n",
    "log_x_test = np.log(x_test + epsilon)\n",
    "log_reg.fit(log_x_train, y_train)\n",
    "y_pred_log = log_reg.predict(log_x_test)\n",
    "mse_log = mean_squared_error(y_test, y_pred_log)\n",
    "r2_log = r2_score(y_test, y_pred_log)\n",
    "\n",
    "print(\"linear model:\")\n",
    "print(\"Linear Mean Squared Error (MSE):\", mse_linear)\n",
    "print(f\"Linear Coefficient of Determination (R-squared): {r2_linear}\\n\")\n",
    "\n",
    "print(\"Polynomial model:\")\n",
    "print(\"Poly Mean Squared Error (MSE):\", mse_poly)\n",
    "print(f\"Poly Coefficient of Determination (R-squared): {r2_poly}\\n\")\n",
    "\n",
    "print(\"Logarithmic model:\")\n",
    "print(\"Logarithmic Mean Squared Error (MSE):\", mse_log)\n",
    "print(f\"Logarithmic Coefficient of Determination (R-squared): {r2_log}\\n\")"
   ]
  },
  {
   "cell_type": "markdown",
   "id": "661dc3ef",
   "metadata": {},
   "source": [
    "### Polynomial Model\n",
    "Both the linear model and polynomial model have better MSEs and r squared values compared to the logarithmic model. Since the polynomial one seems to be a better fit lets start with that. "
   ]
  },
  {
   "cell_type": "code",
   "execution_count": null,
   "id": "c7315aa7",
   "metadata": {},
   "outputs": [],
   "source": [
    "# creating train and test sets\n",
    "# x = df[['Years of Experience', 'Age', 'Education Level Int']]\n",
    "x = df[['Years of Experience']]\n",
    "y = df[['Salary']]\n",
    "\n",
    "x_train, x_test, y_train, y_test = train_test_split(x.values, y.values, test_size=0.3, random_state=101)\n",
    "\n",
    "# Model 2: Polynomial Regression\n",
    "poly_features = PolynomialFeatures(degree=4)\n",
    "x_poly = poly_features.fit_transform(x_train)\n",
    "poly_reg = LinearRegression()\n",
    "poly_reg.fit(x_poly, y_train) #fit model\n",
    "x_test_poly = poly_features.transform(x_test)\n",
    "y_pred_poly = poly_reg.predict(x_test_poly)\n",
    "mse_poly = mean_squared_error(y_test, y_pred_poly)\n",
    "r2_poly = r2_score(y_test, y_pred_poly)\n",
    "\n",
    "print(\"Polynomial model:\")\n",
    "print(\"Poly Mean Squared Error (MSE):\", mse_poly)\n",
    "print(f\"Poly Coefficient of Determination (R-squared): {r2_poly}\\n\")"
   ]
  },
  {
   "cell_type": "markdown",
   "id": "c5f31f69",
   "metadata": {},
   "source": [
    "#### Scatter plot"
   ]
  },
  {
   "cell_type": "code",
   "execution_count": null,
   "id": "6f919d7b",
   "metadata": {},
   "outputs": [],
   "source": [
    "# Create a scatter plot for actual values\n",
    "sns.scatterplot(x=x_test.squeeze(), y=y_test.squeeze(), color='blue', label='Actual Salary')\n",
    "\n",
    "# Create a line plot for predicted values\n",
    "sns.lineplot(x=x_test.squeeze(), y=y_pred_poly.squeeze(), color='red', label='Predicted Salary')\n",
    "\n",
    "# Labels and title\n",
    "plt.xlabel('Years of Experience')\n",
    "plt.ylabel('Salary')\n",
    "plt.title('Actual vs Predicted Salary Poly')\n",
    "ax = plt.gca()\n",
    "ax.spines['top'].set_visible(False)\n",
    "ax.spines['right'].set_visible(False)\n",
    "plt.grid(True, linestyle='--', alpha=0.5)\n",
    "\n",
    "# Show plot\n",
    "plt.legend()\n",
    "plt.tight_layout()\n",
    "plt.show()"
   ]
  },
  {
   "cell_type": "markdown",
   "id": "f760529b",
   "metadata": {},
   "source": [
    "#### KDE\n",
    "using kernel density estimate (KDE) plot to compare the distribution of the actual salary values (red curve) with the distribution of the predicted salary values (blue curve). overall the distribution between actuals vs predicted looks p good"
   ]
  },
  {
   "cell_type": "code",
   "execution_count": null,
   "id": "ec787c11",
   "metadata": {},
   "outputs": [],
   "source": [
    "axl = sns.kdeplot(df['Salary'] , color = 'r', label = 'Actuals')\n",
    "sns.kdeplot(np.ravel(y_pred_poly), color='b', ax=axl, label = 'Predicted')\n",
    "\n",
    "# Show the plot\n",
    "plt.legend()\n",
    "plt.show()"
   ]
  },
  {
   "cell_type": "markdown",
   "id": "b2d94935",
   "metadata": {},
   "source": [
    "#### Residuals\n",
    "Residuals = (y_test - y_pred)\n",
    "\n",
    "A residual plot is a graph that helps us understand how well a regression model fits the data by visualizing the differences between the observed values and the predicted values (called residuals). In simple terms, it shows us how much the model's predictions are off from the actual values.\n",
    "\n",
    "Good vs bad residual plot: https://www.statology.org/good-vs-bad-residual-plot/"
   ]
  },
  {
   "cell_type": "code",
   "execution_count": null,
   "id": "2445a654",
   "metadata": {
    "scrolled": false
   },
   "outputs": [],
   "source": [
    "# Calculate the residuals\n",
    "residuals = np.ravel(y_test - y_pred_poly)\n",
    "\n",
    "# Create a scatter plot of residuals\n",
    "sns.residplot(x=y_pred_poly, y=residuals, lowess=True, line_kws=dict(color=\"r\"))\n",
    "\n",
    "# Add a horizontal line at y = 0 for reference\n",
    "plt.axhline(y=0, color='black', linestyle='--')\n",
    "\n",
    "# Add labels and a title\n",
    "plt.xlabel('Predicted Values')\n",
    "plt.ylabel('Residuals')\n",
    "plt.title('Residuals Plot')\n",
    "\n",
    "# Adjust the plot aesthetics\n",
    "ax = plt.gca()\n",
    "ax.spines['top'].set_visible(False)\n",
    "ax.spines['right'].set_visible(False)\n",
    "plt.grid(True, linestyle='--', alpha=0.5)\n",
    "\n",
    "# Show the plot\n",
    "plt.tight_layout()\n",
    "plt.show()"
   ]
  },
  {
   "cell_type": "code",
   "execution_count": null,
   "id": "cc40c86b",
   "metadata": {},
   "outputs": [],
   "source": [
    "years_of_exp_input = widgets.FloatText(description='Years of Experience:')"
   ]
  },
  {
   "cell_type": "code",
   "execution_count": null,
   "id": "4e47bdc1",
   "metadata": {},
   "outputs": [],
   "source": [
    "output = widgets.Output()\n",
    "\n",
    "def make_predictions(years_of_exp):\n",
    "    x_input = poly_features.transform([[years_of_exp]])\n",
    "    predictions = poly_reg.predict(x_input)\n",
    "    return predictions\n",
    "\n",
    "def handle_input_change(change):\n",
    "    output.clear_output()\n",
    "    with output:\n",
    "        years_of_exp = years_of_exp_input.value\n",
    "        predictions = make_predictions(years_of_exp)\n",
    "        actual_salary = df.loc[df['Years of Experience'] == years_of_exp, 'Salary'].values\n",
    "        if actual_salary.size > 0:\n",
    "            actual_salary = actual_salary[0]\n",
    "            print(\"Predicted Salary:\", predictions)\n",
    "            print(\"Actual Salary:\", actual_salary)\n",
    "            print(\"Difference:\", predictions - actual_salary)\n",
    "        else:\n",
    "            print(\"Actual Salary: none\")\n",
    "            print(\"Predicted Salary:\", predictions)\n",
    "\n",
    "years_of_exp_input.observe(handle_input_change, names='value')\n",
    "\n",
    "# Display the input widget and the output widget\n",
    "display(years_of_exp_input)\n",
    "display(output)"
   ]
  },
  {
   "cell_type": "markdown",
   "id": "0a7b9dda",
   "metadata": {},
   "source": [
    "### Multivariable Polynomial Model\n",
    "The polynomial model was p good but what if we try to add more signals to predicted salary. Like age and education level"
   ]
  },
  {
   "cell_type": "code",
   "execution_count": null,
   "id": "d4a15482",
   "metadata": {},
   "outputs": [],
   "source": [
    "#### Multivariable Polynomial Regression\n",
    "features_poly = df[['Age', 'Years of Experience', 'Education Level Int']]\n",
    "target_poly = df[['Salary']]\n",
    "\n",
    "# Split the data into training and test sets\n",
    "features_train_poly, features_test_poly, target_train_poly, target_test_poly = train_test_split(features_poly, target_poly, test_size=0.3, random_state=101)\n",
    "\n",
    "# Create polynomial features\n",
    "poly_features = PolynomialFeatures(degree=5) #should probs rename this \n",
    "features_train_poly = poly_features.fit_transform(features_train_poly)\n",
    "\n",
    "# Fit the multivariable polynomial regression model\n",
    "poly_reg = LinearRegression()\n",
    "poly_reg.fit(features_train_poly, target_train_poly)\n",
    "\n",
    "# Transform the test set features\n",
    "features_test_poly = poly_features.transform(features_test_poly)\n",
    "\n",
    "# Make predictions on the test set\n",
    "predictions_poly = poly_reg.predict(features_test_poly)\n",
    "\n",
    "# Evaluate the model performance\n",
    "mse_poly = mean_squared_error(target_test_poly, predictions_poly)\n",
    "r2_poly = r2_score(target_test_poly, predictions_poly)\n",
    "print(\"MSE:\", mse_poly)\n",
    "print(\"R-squared:\", r2_poly)"
   ]
  },
  {
   "cell_type": "markdown",
   "id": "2496c473",
   "metadata": {},
   "source": [
    "we have a much better r sqaured and MSE lets graph our KDE\n",
    "\n",
    "#### KDE\n",
    "\n",
    "using kernel density estimate (KDE) plot to compare the distribution of the actual salary values (red curve) with the distribution of the predicted salary values (blue curve). overall the distribution between actuals vs predicted looks p good"
   ]
  },
  {
   "cell_type": "code",
   "execution_count": null,
   "id": "8253f2d4",
   "metadata": {},
   "outputs": [],
   "source": [
    "axl = sns.kdeplot(df['Salary'] , color = 'r', label = 'Actuals')\n",
    "sns.kdeplot(np.ravel(predictions_poly), color='b', ax=axl, label = 'Predicted')\n",
    "\n",
    "# Show the plot\n",
    "plt.legend()\n",
    "plt.show()"
   ]
  },
  {
   "cell_type": "markdown",
   "id": "3bce5451",
   "metadata": {},
   "source": [
    "#### Residuals\n",
    "Time for residules: Residuals = (y_test - y_pred)\n",
    "\n",
    "A residual plot is a graph that helps us understand how well a regression model fits the data by visualizing the differences between the observed values and the predicted values (called residuals). In simple terms, it shows us how much the model's predictions are off from the actual values.\n",
    "\n",
    "Good vs bad residual plot: https://www.statology.org/good-vs-bad-residual-plot/"
   ]
  },
  {
   "cell_type": "code",
   "execution_count": null,
   "id": "9438b986",
   "metadata": {},
   "outputs": [],
   "source": [
    "# Calculate the residuals\n",
    "multi_residuals = target_test_poly - predictions_poly\n",
    "\n",
    "# Create a scatter plot of residuals\n",
    "sns.residplot(x=predictions_poly, y=multi_residuals, lowess=True, line_kws=dict(color=\"r\"))\n",
    "\n",
    "# Add a horizontal line at y = 0 for reference\n",
    "plt.axhline(y=0, color='black', linestyle='--')\n",
    "\n",
    "# Add labels and a title\n",
    "plt.xlabel('Predicted Values')\n",
    "plt.ylabel('Residuals')\n",
    "plt.title('Residuals Plot')\n",
    "\n",
    "# Adjust the plot aesthetics\n",
    "ax = plt.gca()\n",
    "ax.spines['top'].set_visible(False)\n",
    "ax.spines['right'].set_visible(False)\n",
    "plt.grid(True, linestyle='--', alpha=0.5)\n",
    "\n",
    "# Show the plot\n",
    "plt.tight_layout()\n",
    "plt.show()"
   ]
  },
  {
   "cell_type": "markdown",
   "id": "e72566a9",
   "metadata": {},
   "source": [
    "I am happy with this model now i would like to use my model to predict all values instead of just 30%"
   ]
  },
  {
   "cell_type": "code",
   "execution_count": null,
   "id": "211119c4",
   "metadata": {},
   "outputs": [],
   "source": [
    "#Transform\n",
    "predicted_salary_poly = poly_features.transform(features_poly)\n",
    "\n",
    "# Make predictions on the df\n",
    "predicted_salary = poly_reg.predict(predicted_salary_poly)\n",
    "\n",
    "# Add columns\n",
    "df['Predicted Salary'] = predicted_salary.round(1)\n",
    "df['Diff'] = df['Salary'] - df['Predicted Salary']\n",
    "\n",
    "#Display\n",
    "display(df)"
   ]
  },
  {
   "cell_type": "markdown",
   "id": "5fb0171d",
   "metadata": {},
   "source": [
    "#### Viz"
   ]
  },
  {
   "cell_type": "code",
   "execution_count": null,
   "id": "1e8ec7bf",
   "metadata": {},
   "outputs": [],
   "source": [
    "# Create a scatter plot for actual values\n",
    "sns.scatterplot(x=df['Years of Experience'], y=df['Salary'], color='blue', label='Actual Salary')\n",
    "\n",
    "# Create a line plot for predicted values\n",
    "sns.scatterplot(x=df['Years of Experience'], y=df['Predicted Salary'], color='red', label='Predicted Salary')\n",
    "\n",
    "# Labels and title\n",
    "plt.xlabel('Years of Experience')\n",
    "plt.ylabel('Salary')\n",
    "plt.title('Actual vs Predicted Salary Poly')\n",
    "ax = plt.gca()\n",
    "ax.spines['top'].set_visible(False)\n",
    "ax.spines['right'].set_visible(False)\n",
    "plt.grid(True, linestyle='--', alpha=0.5)\n",
    "\n",
    "# Show plot\n",
    "plt.legend()\n",
    "plt.tight_layout()\n",
    "plt.show()"
   ]
  },
  {
   "cell_type": "markdown",
   "id": "3be4caad",
   "metadata": {},
   "source": [
    "### Random Forest\n",
    "Random Forest is an ensemble learning method that combines multiple decision trees to create a more robust and accurate predictive model.\n",
    "\n",
    "Imagine you have a bunch of friends, and you want to make a decision together, like choosing where to go for lunch. Instead of asking just one friend for their opinion, you decide to ask multiple friends and then take a vote.\n",
    "\n",
    "`RandomForestRegressor` works in a similar way for making predictions in regression problems. Instead of relying on just one \"friend\" (single decision tree) to make predictions, it gathers predictions from multiple \"friends\" (many decision trees) and combines their opinions to make a final decision.\n",
    "\n",
    "Each \"friend\" (decision tree) makes a prediction based on the input data, but they all use different parts of the data because they were trained on random subsets. This randomness helps each tree focus on different aspects of the problem. After all the \"friends\" have given their predictions, the `RandomForestRegressor` takes the average (for regression tasks) of all the predictions to arrive at the final prediction.\n",
    "\n",
    "This \"wisdom of the crowd\" approach helps reduce errors and gives more reliable predictions. It's like taking everyone's opinions into account rather than just relying on one person's judgment.\n",
    "\n",
    "By using many decision trees together, `RandomForestRegressor` becomes more robust and better at handling different types of data. It can deal with noisy or complex data and tends to generalize well to new, unseen data."
   ]
  },
  {
   "cell_type": "code",
   "execution_count": null,
   "id": "a04f6203",
   "metadata": {},
   "outputs": [],
   "source": [
    "x = df[['Years of Experience']]\n",
    "y = df[['Salary']]\n",
    "\n",
    "x_train, x_test, y_train, y_test = train_test_split(x.values, y.values, test_size=0.3, random_state=101)\n",
    "y_train = y_train.ravel()\n",
    "\n",
    "# create a random forest regressor model\n",
    "model = RandomForestRegressor(n_estimators=100, random_state=42)\n",
    "\n",
    "# fit the model to the training data\n",
    "model.fit(x_train, y_train)\n",
    "\n",
    "# make predictions on the test data\n",
    "y_pred = model.predict(x_test)\n",
    "\n",
    "mae_rfr = mean_absolute_error(y_test, y_pred)\n",
    "round(mae_rfr,2) "
   ]
  },
  {
   "cell_type": "code",
   "execution_count": null,
   "id": "43dc1068",
   "metadata": {},
   "outputs": [],
   "source": [
    "axl = sns.kdeplot(df['Salary'] , color = 'r', label = 'Actuals')\n",
    "sns.kdeplot(y_pred, color='b', ax=axl, label = 'Predicted')\n",
    "\n",
    "# Show the plot\n",
    "plt.legend()\n",
    "plt.show()"
   ]
  },
  {
   "cell_type": "code",
   "execution_count": null,
   "id": "97df6897",
   "metadata": {},
   "outputs": [],
   "source": [
    "# Convert y_pred and y_test to 1-dimensional arrays using ravel()\n",
    "y_pred = y_pred.ravel()\n",
    "y_test = y_test.ravel()\n",
    "\n",
    "# Calculate the residuals\n",
    "residuals = y_test - y_pred\n",
    "\n",
    "# Create a scatter plot of residuals\n",
    "sns.residplot(x=y_pred, y=residuals, lowess=True, line_kws=dict(color=\"r\"))\n",
    "\n",
    "# Add a horizontal line at y = 0 for reference\n",
    "plt.axhline(y=0, color='black', linestyle='--')\n",
    "\n",
    "# Add labels and a title\n",
    "plt.xlabel('Predicted Values')\n",
    "plt.ylabel('Residuals')\n",
    "plt.title('Residuals Plot')\n",
    "\n",
    "# Adjust the plot aesthetics\n",
    "ax = plt.gca()\n",
    "ax.spines['top'].set_visible(False)\n",
    "ax.spines['right'].set_visible(False)\n",
    "plt.grid(True, linestyle='--', alpha=0.5)\n",
    "\n",
    "# Show the plot\n",
    "plt.tight_layout()\n",
    "plt.show()"
   ]
  },
  {
   "cell_type": "markdown",
   "id": "7ce1963c",
   "metadata": {},
   "source": [
    "# Scratch"
   ]
  },
  {
   "cell_type": "markdown",
   "id": "3d7833c0",
   "metadata": {},
   "source": [
    "### Linear Model\n",
    "Now what we looked at the polynomial model lets see what the linear regression model looks like"
   ]
  },
  {
   "cell_type": "code",
   "execution_count": null,
   "id": "b02f1160",
   "metadata": {
    "scrolled": false
   },
   "outputs": [],
   "source": [
    "# Create a scatter plot for actual values\n",
    "sns.scatterplot(x=x_test.squeeze(), y=y_test.squeeze(), color='blue', alpha=0.5, label='Actual Salary')\n",
    "\n",
    "# Create a line plot for predicted values\n",
    "sns.lineplot(x=x_test.squeeze(), y=y_pred_linear.squeeze(), color='red', label='Predicted Salary')\n",
    "\n",
    "# Labels and title\n",
    "plt.xlabel('Years of Experience')\n",
    "plt.ylabel('Salary')\n",
    "plt.title('Actual vs Predicted Salary Linear')\n",
    "ax = plt.gca()\n",
    "ax.spines['top'].set_visible(False)\n",
    "ax.spines['right'].set_visible(False)\n",
    "plt.grid(True, linestyle='--', alpha=0.5)\n",
    "\n",
    "# Show plot\n",
    "plt.legend()\n",
    "plt.tight_layout()\n",
    "plt.show()"
   ]
  },
  {
   "cell_type": "markdown",
   "id": "b0903c86",
   "metadata": {},
   "source": [
    "#### KDE\n",
    "\n",
    "Like we mentioned before the kernel density estimate (KDE) plot is used to visualize the distribution of actuals vs predicted salaries. In this chart we can see that the distribution between actuals vs predicted is quite different"
   ]
  },
  {
   "cell_type": "code",
   "execution_count": null,
   "id": "05c0dcff",
   "metadata": {},
   "outputs": [],
   "source": [
    "axl = sns.kdeplot(df['Salary'] , color = 'r', label = \"Actuals\")\n",
    "sns.kdeplot(np.ravel(y_pred_linear), color='b', ax=axl, label = \"Predicted\")\n",
    "\n",
    "# Show the plot\n",
    "plt.legend()\n",
    "plt.show()"
   ]
  },
  {
   "cell_type": "markdown",
   "id": "30f2f747",
   "metadata": {},
   "source": [
    "#### Residuals\n",
    "Residuals = (y_test - y_pred)\n",
    "\n",
    "Taking a look at the plot we can see that there seems to be a curve starting at the 2k mark. Telling us that the linear regression model doesn't accurately capture the relationship between YOE and salary\n",
    "\n",
    "Good vs bad residual plot: https://www.statology.org/good-vs-bad-residual-plot/"
   ]
  },
  {
   "cell_type": "code",
   "execution_count": null,
   "id": "9e8cb0ef",
   "metadata": {},
   "outputs": [],
   "source": [
    "# Calculate the residuals\n",
    "residuals = np.ravel(y_test - y_pred_linear)\n",
    "\n",
    "# Create a scatter plot of residuals\n",
    "sns.residplot(x=y_pred_linear, y=residuals, lowess=True, line_kws=dict(color=\"r\"))\n",
    "\n",
    "# Add a horizontal line at y = 0 for reference\n",
    "plt.axhline(y=0, color='black', linestyle='--')\n",
    "\n",
    "# Add labels and a title\n",
    "plt.xlabel('Predicted Values')\n",
    "plt.ylabel('Residuals')\n",
    "plt.title('Residuals Plot')\n",
    "\n",
    "# Adjust the plot aesthetics\n",
    "ax = plt.gca()\n",
    "ax.spines['top'].set_visible(False)\n",
    "ax.spines['right'].set_visible(False)\n",
    "plt.grid(True, linestyle='--', alpha=0.5)\n",
    "\n",
    "# Show the plot\n",
    "plt.tight_layout()\n",
    "plt.show()"
   ]
  },
  {
   "cell_type": "code",
   "execution_count": null,
   "id": "17f37058",
   "metadata": {},
   "outputs": [],
   "source": [
    "avg_salary_by_age = df.groupby('Age')['Salary'].mean()\n",
    "\n",
    "# Create a dropdown widget for job title selection\n",
    "job_title_dropdown = widgets.Dropdown(\n",
    "    options = df['Job Title'].unique(),\n",
    "    description = 'Job Title:',\n",
    "    value = df['Job Title'].unique()[0]\n",
    ")\n",
    "\n",
    "def update_plot(job_title):\n",
    "    filtered_data = df[df['Job Title'] == job_title]\n",
    "    avg_salary_by_age_filtered = filtered_data.groupby('Age')['Salary'].mean()\n",
    "\n",
    "    # Create a line plot\n",
    "    plt.plot(avg_salary_by_age_filtered.index, avg_salary_by_age_filtered.values, marker='o')\n",
    "\n",
    "    # Cosmetics\n",
    "    plt.xlabel('Age')\n",
    "    plt.ylabel('Average Salary')\n",
    "    plt.title('Average Salary by Age (Filtered by Job Title)')\n",
    "\n",
    "    ax = plt.gca()\n",
    "    ax.spines['top'].set_visible(False)\n",
    "    ax.spines['right'].set_visible(False)\n",
    "\n",
    "    # Display the plot\n",
    "    plt.show()\n",
    "\n",
    "widgets.interactive(update_plot, job_title=job_title_dropdown)"
   ]
  },
  {
   "cell_type": "code",
   "execution_count": null,
   "id": "e9331a8b",
   "metadata": {},
   "outputs": [],
   "source": [
    "# Data\n",
    "job_title_dist = df['Job Title'].value_counts()\n",
    "\n",
    "# Limit to top 50 job titles\n",
    "top_50_job_titles = job_title_dist.head(10)\n",
    "\n",
    "# Create a bar chart\n",
    "top_50_job_titles.plot.bar()\n",
    "\n",
    "# Cosmetics\n",
    "plt.xlabel('Job Title')\n",
    "plt.ylabel('Total Jobs')\n",
    "plt.title('Most Popular Jobs')\n",
    "ax = plt.gca()\n",
    "ax.spines['top'].set_visible(False)\n",
    "ax.spines['right'].set_visible(False)\n",
    "\n",
    "# Display the plot\n",
    "plt.show()"
   ]
  },
  {
   "cell_type": "code",
   "execution_count": null,
   "id": "47c05e0a",
   "metadata": {},
   "outputs": [],
   "source": [
    "model = LinearRegression()\n",
    "\n",
    "x = df[['Age']]\n",
    "y = df[['Salary']]\n",
    "\n",
    "model.fit(x,y)\n",
    "r_sq = model.score(x, y)\n",
    "\n",
    "print(f\"coefficient of determination: {r_sq}\")"
   ]
  },
  {
   "cell_type": "code",
   "execution_count": null,
   "id": "740615ea",
   "metadata": {},
   "outputs": [],
   "source": [
    "# Regression for Salary and YOE\n",
    "sns.regplot(x=\"Years of Experience\", y=\"Salary\", data=df) #plots a linear regresson model fit\n",
    "\n",
    "#cosmetics\n",
    "ax = plt.gca()\n",
    "ax.spines['top'].set_visible(False)\n",
    "ax.spines['right'].set_visible(False)"
   ]
  },
  {
   "cell_type": "code",
   "execution_count": null,
   "id": "2dc5c7bc",
   "metadata": {},
   "outputs": [],
   "source": [
    "# Regression for Salary and Age\n",
    "sns.regplot(x=\"Age\", y=\"Salary\", data=df) #plots a linear regresson model fit\n",
    "\n",
    "#cosmetics\n",
    "ax = plt.gca()\n",
    "ax.spines['top'].set_visible(False)\n",
    "ax.spines['right'].set_visible(False)\n"
   ]
  },
  {
   "cell_type": "code",
   "execution_count": null,
   "id": "948b948c",
   "metadata": {},
   "outputs": [],
   "source": []
  },
  {
   "cell_type": "code",
   "execution_count": null,
   "id": "3a700d0e",
   "metadata": {},
   "outputs": [],
   "source": []
  }
 ],
 "metadata": {
  "kernelspec": {
   "display_name": "Python 3 (ipykernel)",
   "language": "python",
   "name": "python3"
  },
  "language_info": {
   "codemirror_mode": {
    "name": "ipython",
    "version": 3
   },
   "file_extension": ".py",
   "mimetype": "text/x-python",
   "name": "python",
   "nbconvert_exporter": "python",
   "pygments_lexer": "ipython3",
   "version": "3.9.13"
  }
 },
 "nbformat": 4,
 "nbformat_minor": 5
}
